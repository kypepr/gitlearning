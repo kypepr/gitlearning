{
 "cells": [
  {
   "cell_type": "code",
   "execution_count": 3,
   "id": "70029b8b-76fe-4f51-ae0a-61065b25f2e2",
   "metadata": {},
   "outputs": [],
   "source": [
    "#%pip install seaborn\n"
   ]
  },
  {
   "cell_type": "code",
   "execution_count": 2,
   "id": "fb66ab11-a092-4c0b-ba8c-54310b4e22db",
   "metadata": {},
   "outputs": [],
   "source": [
    "import numpy as np\n",
    "import pandas as pd\n",
    "import seaborn as sns\n",
    "import matplotlib.pyplot as plt"
   ]
  },
  {
   "cell_type": "markdown",
   "id": "ca8e6a41-2c50-4978-b506-2c080bdad2d7",
   "metadata": {},
   "source": [
    "# <font color='blue'> 2. Importing Data\n"
   ]
  },
  {
   "cell_type": "code",
   "execution_count": 4,
   "id": "e86efe29-6046-4198-911c-4038a173fbfb",
   "metadata": {},
   "outputs": [],
   "source": [
    "# <font color='blue'> 2. Importing Data\n"
   ]
  },
  {
   "cell_type": "code",
   "execution_count": 6,
   "id": "837c23fb-5f52-42bf-b3fd-901430b03f26",
   "metadata": {},
   "outputs": [],
   "source": [
    "# read dataset function\n",
    "def read_data(path):\n",
    "    \"\"\"\n",
    "    Reads a CSV file at the given path, removes any duplicate rows,\n",
    "    and returns its contents as a pandas DataFrame.\n",
    "\n",
    "    Parameters\n",
    "    ----------\n",
    "    path : str\n",
    "        The sample data input path (csv format)\n",
    "\n",
    "    Return\n",
    "    ------\n",
    "    df : pd.DataFrame\n",
    "        The sample data input\n",
    "    \"\"\"\n",
    "    # Read data\n",
    "    df = pd.read_csv(path)\n",
    "\n",
    "    # Validate\n",
    "    print('Data shape:', df.shape)\n",
    "\n",
    "    return df"
   ]
  },
  {
   "cell_type": "code",
   "execution_count": 7,
   "id": "9baf28e6-626a-4283-84c2-3244088a03a5",
   "metadata": {},
   "outputs": [
    {
     "name": "stdout",
     "output_type": "stream",
     "text": [
      "Data shape: (15420, 33)\n"
     ]
    },
    {
     "data": {
      "text/html": [
       "<div>\n",
       "<style scoped>\n",
       "    .dataframe tbody tr th:only-of-type {\n",
       "        vertical-align: middle;\n",
       "    }\n",
       "\n",
       "    .dataframe tbody tr th {\n",
       "        vertical-align: top;\n",
       "    }\n",
       "\n",
       "    .dataframe thead th {\n",
       "        text-align: right;\n",
       "    }\n",
       "</style>\n",
       "<table border=\"1\" class=\"dataframe\">\n",
       "  <thead>\n",
       "    <tr style=\"text-align: right;\">\n",
       "      <th></th>\n",
       "      <th>Month</th>\n",
       "      <th>WeekOfMonth</th>\n",
       "      <th>DayOfWeek</th>\n",
       "      <th>Make</th>\n",
       "      <th>AccidentArea</th>\n",
       "      <th>DayOfWeekClaimed</th>\n",
       "      <th>MonthClaimed</th>\n",
       "      <th>WeekOfMonthClaimed</th>\n",
       "      <th>Sex</th>\n",
       "      <th>MaritalStatus</th>\n",
       "      <th>...</th>\n",
       "      <th>AgeOfVehicle</th>\n",
       "      <th>AgeOfPolicyHolder</th>\n",
       "      <th>PoliceReportFiled</th>\n",
       "      <th>WitnessPresent</th>\n",
       "      <th>AgentType</th>\n",
       "      <th>NumberOfSuppliments</th>\n",
       "      <th>AddressChange_Claim</th>\n",
       "      <th>NumberOfCars</th>\n",
       "      <th>Year</th>\n",
       "      <th>BasePolicy</th>\n",
       "    </tr>\n",
       "  </thead>\n",
       "  <tbody>\n",
       "    <tr>\n",
       "      <th>0</th>\n",
       "      <td>Dec</td>\n",
       "      <td>5</td>\n",
       "      <td>Wednesday</td>\n",
       "      <td>Honda</td>\n",
       "      <td>Urban</td>\n",
       "      <td>Tuesday</td>\n",
       "      <td>Jan</td>\n",
       "      <td>1</td>\n",
       "      <td>Female</td>\n",
       "      <td>Single</td>\n",
       "      <td>...</td>\n",
       "      <td>3 years</td>\n",
       "      <td>26 to 30</td>\n",
       "      <td>No</td>\n",
       "      <td>No</td>\n",
       "      <td>External</td>\n",
       "      <td>none</td>\n",
       "      <td>1 year</td>\n",
       "      <td>3 to 4</td>\n",
       "      <td>1994</td>\n",
       "      <td>Liability</td>\n",
       "    </tr>\n",
       "    <tr>\n",
       "      <th>1</th>\n",
       "      <td>Jan</td>\n",
       "      <td>3</td>\n",
       "      <td>Wednesday</td>\n",
       "      <td>Honda</td>\n",
       "      <td>Urban</td>\n",
       "      <td>Monday</td>\n",
       "      <td>Jan</td>\n",
       "      <td>4</td>\n",
       "      <td>Male</td>\n",
       "      <td>Single</td>\n",
       "      <td>...</td>\n",
       "      <td>6 years</td>\n",
       "      <td>31 to 35</td>\n",
       "      <td>Yes</td>\n",
       "      <td>No</td>\n",
       "      <td>External</td>\n",
       "      <td>none</td>\n",
       "      <td>no change</td>\n",
       "      <td>1 vehicle</td>\n",
       "      <td>1994</td>\n",
       "      <td>Collision</td>\n",
       "    </tr>\n",
       "    <tr>\n",
       "      <th>2</th>\n",
       "      <td>Oct</td>\n",
       "      <td>5</td>\n",
       "      <td>Friday</td>\n",
       "      <td>Honda</td>\n",
       "      <td>Urban</td>\n",
       "      <td>Thursday</td>\n",
       "      <td>Nov</td>\n",
       "      <td>2</td>\n",
       "      <td>Male</td>\n",
       "      <td>Married</td>\n",
       "      <td>...</td>\n",
       "      <td>7 years</td>\n",
       "      <td>41 to 50</td>\n",
       "      <td>No</td>\n",
       "      <td>No</td>\n",
       "      <td>External</td>\n",
       "      <td>none</td>\n",
       "      <td>no change</td>\n",
       "      <td>1 vehicle</td>\n",
       "      <td>1994</td>\n",
       "      <td>Collision</td>\n",
       "    </tr>\n",
       "    <tr>\n",
       "      <th>3</th>\n",
       "      <td>Jun</td>\n",
       "      <td>2</td>\n",
       "      <td>Saturday</td>\n",
       "      <td>Toyota</td>\n",
       "      <td>Rural</td>\n",
       "      <td>Friday</td>\n",
       "      <td>Jul</td>\n",
       "      <td>1</td>\n",
       "      <td>Male</td>\n",
       "      <td>Married</td>\n",
       "      <td>...</td>\n",
       "      <td>more than 7</td>\n",
       "      <td>51 to 65</td>\n",
       "      <td>Yes</td>\n",
       "      <td>No</td>\n",
       "      <td>External</td>\n",
       "      <td>more than 5</td>\n",
       "      <td>no change</td>\n",
       "      <td>1 vehicle</td>\n",
       "      <td>1994</td>\n",
       "      <td>Liability</td>\n",
       "    </tr>\n",
       "    <tr>\n",
       "      <th>4</th>\n",
       "      <td>Jan</td>\n",
       "      <td>5</td>\n",
       "      <td>Monday</td>\n",
       "      <td>Honda</td>\n",
       "      <td>Urban</td>\n",
       "      <td>Tuesday</td>\n",
       "      <td>Feb</td>\n",
       "      <td>2</td>\n",
       "      <td>Female</td>\n",
       "      <td>Single</td>\n",
       "      <td>...</td>\n",
       "      <td>5 years</td>\n",
       "      <td>31 to 35</td>\n",
       "      <td>No</td>\n",
       "      <td>No</td>\n",
       "      <td>External</td>\n",
       "      <td>none</td>\n",
       "      <td>no change</td>\n",
       "      <td>1 vehicle</td>\n",
       "      <td>1994</td>\n",
       "      <td>Collision</td>\n",
       "    </tr>\n",
       "  </tbody>\n",
       "</table>\n",
       "<p>5 rows × 33 columns</p>\n",
       "</div>"
      ],
      "text/plain": [
       "  Month  WeekOfMonth  DayOfWeek    Make AccidentArea DayOfWeekClaimed  \\\n",
       "0   Dec            5  Wednesday   Honda        Urban          Tuesday   \n",
       "1   Jan            3  Wednesday   Honda        Urban           Monday   \n",
       "2   Oct            5     Friday   Honda        Urban         Thursday   \n",
       "3   Jun            2   Saturday  Toyota        Rural           Friday   \n",
       "4   Jan            5     Monday   Honda        Urban          Tuesday   \n",
       "\n",
       "  MonthClaimed  WeekOfMonthClaimed     Sex MaritalStatus  ...  AgeOfVehicle  \\\n",
       "0          Jan                   1  Female        Single  ...       3 years   \n",
       "1          Jan                   4    Male        Single  ...       6 years   \n",
       "2          Nov                   2    Male       Married  ...       7 years   \n",
       "3          Jul                   1    Male       Married  ...   more than 7   \n",
       "4          Feb                   2  Female        Single  ...       5 years   \n",
       "\n",
       "  AgeOfPolicyHolder PoliceReportFiled WitnessPresent AgentType  \\\n",
       "0          26 to 30                No             No  External   \n",
       "1          31 to 35               Yes             No  External   \n",
       "2          41 to 50                No             No  External   \n",
       "3          51 to 65               Yes             No  External   \n",
       "4          31 to 35                No             No  External   \n",
       "\n",
       "   NumberOfSuppliments  AddressChange_Claim  NumberOfCars  Year  BasePolicy  \n",
       "0                 none               1 year        3 to 4  1994   Liability  \n",
       "1                 none            no change     1 vehicle  1994   Collision  \n",
       "2                 none            no change     1 vehicle  1994   Collision  \n",
       "3          more than 5            no change     1 vehicle  1994   Liability  \n",
       "4                 none            no change     1 vehicle  1994   Collision  \n",
       "\n",
       "[5 rows x 33 columns]"
      ]
     },
     "execution_count": 7,
     "metadata": {},
     "output_type": "execute_result"
    }
   ],
   "source": [
    "# Dataset name / Path\n",
    "path = 'fraud_oracle.csv'\n",
    "\n",
    "# Read the data\n",
    "df = read_data(path = path)\n",
    "df.head()"
   ]
  },
  {
   "cell_type": "code",
   "execution_count": 8,
   "id": "ca14b3e7-4e60-488f-9dd0-9336a32a878d",
   "metadata": {},
   "outputs": [
    {
     "name": "stdout",
     "output_type": "stream",
     "text": [
      "<class 'pandas.core.frame.DataFrame'>\n",
      "RangeIndex: 15420 entries, 0 to 15419\n",
      "Data columns (total 33 columns):\n",
      " #   Column                Non-Null Count  Dtype \n",
      "---  ------                --------------  ----- \n",
      " 0   Month                 15420 non-null  object\n",
      " 1   WeekOfMonth           15420 non-null  int64 \n",
      " 2   DayOfWeek             15420 non-null  object\n",
      " 3   Make                  15420 non-null  object\n",
      " 4   AccidentArea          15420 non-null  object\n",
      " 5   DayOfWeekClaimed      15420 non-null  object\n",
      " 6   MonthClaimed          15420 non-null  object\n",
      " 7   WeekOfMonthClaimed    15420 non-null  int64 \n",
      " 8   Sex                   15420 non-null  object\n",
      " 9   MaritalStatus         15420 non-null  object\n",
      " 10  Age                   15420 non-null  int64 \n",
      " 11  Fault                 15420 non-null  object\n",
      " 12  PolicyType            15420 non-null  object\n",
      " 13  VehicleCategory       15420 non-null  object\n",
      " 14  VehiclePrice          15420 non-null  object\n",
      " 15  FraudFound_P          15420 non-null  int64 \n",
      " 16  PolicyNumber          15420 non-null  int64 \n",
      " 17  RepNumber             15420 non-null  int64 \n",
      " 18  Deductible            15420 non-null  int64 \n",
      " 19  DriverRating          15420 non-null  int64 \n",
      " 20  Days_Policy_Accident  15420 non-null  object\n",
      " 21  Days_Policy_Claim     15420 non-null  object\n",
      " 22  PastNumberOfClaims    15420 non-null  object\n",
      " 23  AgeOfVehicle          15420 non-null  object\n",
      " 24  AgeOfPolicyHolder     15420 non-null  object\n",
      " 25  PoliceReportFiled     15420 non-null  object\n",
      " 26  WitnessPresent        15420 non-null  object\n",
      " 27  AgentType             15420 non-null  object\n",
      " 28  NumberOfSuppliments   15420 non-null  object\n",
      " 29  AddressChange_Claim   15420 non-null  object\n",
      " 30  NumberOfCars          15420 non-null  object\n",
      " 31  Year                  15420 non-null  int64 \n",
      " 32  BasePolicy            15420 non-null  object\n",
      "dtypes: int64(9), object(24)\n",
      "memory usage: 3.9+ MB\n"
     ]
    }
   ],
   "source": [
    "# Check data type\n",
    "df.info()"
   ]
  },
  {
   "cell_type": "markdown",
   "id": "d06133d8-b43d-4041-b27e-bd71f58018c3",
   "metadata": {},
   "source": [
    "# <font color='blue'> 3. Splitting Data\n",
    "    \n",
    "___"
   ]
  },
  {
   "cell_type": "code",
   "execution_count": 9,
   "id": "3bc45091-14d6-4534-9103-eb1d601c5fce",
   "metadata": {},
   "outputs": [],
   "source": [
    "# function split input and output\n",
    "def split_input_output(data, target_column):\n",
    "    \"\"\"\n",
    "    Function to split input (x) and output (y)\n",
    "\n",
    "    Parameters\n",
    "    ----------\n",
    "    data : pd.DataFrame\n",
    "        The sample data input\n",
    "\n",
    "    target_column : str\n",
    "        The output column name\n",
    "\n",
    "    Return\n",
    "    ------\n",
    "    X : pd.DataFrame\n",
    "        input data\n",
    "\n",
    "    y : pd.DataFrame\n",
    "        output data\n",
    "    \"\"\"\n",
    "    X = data.drop(columns = target_column)\n",
    "    y = data[target_column]\n",
    "\n",
    "    # Validate\n",
    "    print('X shape:', X.shape)\n",
    "    print('y shape :', y.shape)\n",
    "\n",
    "    return X, y\n"
   ]
  },
  {
   "cell_type": "code",
   "execution_count": 10,
   "id": "a2bab39e-62ed-4135-b16c-22bd604642c4",
   "metadata": {},
   "outputs": [
    {
     "name": "stdout",
     "output_type": "stream",
     "text": [
      "X shape: (15420, 32)\n",
      "y shape : (15420,)\n"
     ]
    },
    {
     "data": {
      "text/html": [
       "<div>\n",
       "<style scoped>\n",
       "    .dataframe tbody tr th:only-of-type {\n",
       "        vertical-align: middle;\n",
       "    }\n",
       "\n",
       "    .dataframe tbody tr th {\n",
       "        vertical-align: top;\n",
       "    }\n",
       "\n",
       "    .dataframe thead th {\n",
       "        text-align: right;\n",
       "    }\n",
       "</style>\n",
       "<table border=\"1\" class=\"dataframe\">\n",
       "  <thead>\n",
       "    <tr style=\"text-align: right;\">\n",
       "      <th></th>\n",
       "      <th>Month</th>\n",
       "      <th>WeekOfMonth</th>\n",
       "      <th>DayOfWeek</th>\n",
       "      <th>Make</th>\n",
       "      <th>AccidentArea</th>\n",
       "      <th>DayOfWeekClaimed</th>\n",
       "      <th>MonthClaimed</th>\n",
       "      <th>WeekOfMonthClaimed</th>\n",
       "      <th>Sex</th>\n",
       "      <th>MaritalStatus</th>\n",
       "      <th>...</th>\n",
       "      <th>AgeOfVehicle</th>\n",
       "      <th>AgeOfPolicyHolder</th>\n",
       "      <th>PoliceReportFiled</th>\n",
       "      <th>WitnessPresent</th>\n",
       "      <th>AgentType</th>\n",
       "      <th>NumberOfSuppliments</th>\n",
       "      <th>AddressChange_Claim</th>\n",
       "      <th>NumberOfCars</th>\n",
       "      <th>Year</th>\n",
       "      <th>BasePolicy</th>\n",
       "    </tr>\n",
       "  </thead>\n",
       "  <tbody>\n",
       "    <tr>\n",
       "      <th>0</th>\n",
       "      <td>Dec</td>\n",
       "      <td>5</td>\n",
       "      <td>Wednesday</td>\n",
       "      <td>Honda</td>\n",
       "      <td>Urban</td>\n",
       "      <td>Tuesday</td>\n",
       "      <td>Jan</td>\n",
       "      <td>1</td>\n",
       "      <td>Female</td>\n",
       "      <td>Single</td>\n",
       "      <td>...</td>\n",
       "      <td>3 years</td>\n",
       "      <td>26 to 30</td>\n",
       "      <td>No</td>\n",
       "      <td>No</td>\n",
       "      <td>External</td>\n",
       "      <td>none</td>\n",
       "      <td>1 year</td>\n",
       "      <td>3 to 4</td>\n",
       "      <td>1994</td>\n",
       "      <td>Liability</td>\n",
       "    </tr>\n",
       "    <tr>\n",
       "      <th>1</th>\n",
       "      <td>Jan</td>\n",
       "      <td>3</td>\n",
       "      <td>Wednesday</td>\n",
       "      <td>Honda</td>\n",
       "      <td>Urban</td>\n",
       "      <td>Monday</td>\n",
       "      <td>Jan</td>\n",
       "      <td>4</td>\n",
       "      <td>Male</td>\n",
       "      <td>Single</td>\n",
       "      <td>...</td>\n",
       "      <td>6 years</td>\n",
       "      <td>31 to 35</td>\n",
       "      <td>Yes</td>\n",
       "      <td>No</td>\n",
       "      <td>External</td>\n",
       "      <td>none</td>\n",
       "      <td>no change</td>\n",
       "      <td>1 vehicle</td>\n",
       "      <td>1994</td>\n",
       "      <td>Collision</td>\n",
       "    </tr>\n",
       "    <tr>\n",
       "      <th>2</th>\n",
       "      <td>Oct</td>\n",
       "      <td>5</td>\n",
       "      <td>Friday</td>\n",
       "      <td>Honda</td>\n",
       "      <td>Urban</td>\n",
       "      <td>Thursday</td>\n",
       "      <td>Nov</td>\n",
       "      <td>2</td>\n",
       "      <td>Male</td>\n",
       "      <td>Married</td>\n",
       "      <td>...</td>\n",
       "      <td>7 years</td>\n",
       "      <td>41 to 50</td>\n",
       "      <td>No</td>\n",
       "      <td>No</td>\n",
       "      <td>External</td>\n",
       "      <td>none</td>\n",
       "      <td>no change</td>\n",
       "      <td>1 vehicle</td>\n",
       "      <td>1994</td>\n",
       "      <td>Collision</td>\n",
       "    </tr>\n",
       "    <tr>\n",
       "      <th>3</th>\n",
       "      <td>Jun</td>\n",
       "      <td>2</td>\n",
       "      <td>Saturday</td>\n",
       "      <td>Toyota</td>\n",
       "      <td>Rural</td>\n",
       "      <td>Friday</td>\n",
       "      <td>Jul</td>\n",
       "      <td>1</td>\n",
       "      <td>Male</td>\n",
       "      <td>Married</td>\n",
       "      <td>...</td>\n",
       "      <td>more than 7</td>\n",
       "      <td>51 to 65</td>\n",
       "      <td>Yes</td>\n",
       "      <td>No</td>\n",
       "      <td>External</td>\n",
       "      <td>more than 5</td>\n",
       "      <td>no change</td>\n",
       "      <td>1 vehicle</td>\n",
       "      <td>1994</td>\n",
       "      <td>Liability</td>\n",
       "    </tr>\n",
       "    <tr>\n",
       "      <th>4</th>\n",
       "      <td>Jan</td>\n",
       "      <td>5</td>\n",
       "      <td>Monday</td>\n",
       "      <td>Honda</td>\n",
       "      <td>Urban</td>\n",
       "      <td>Tuesday</td>\n",
       "      <td>Feb</td>\n",
       "      <td>2</td>\n",
       "      <td>Female</td>\n",
       "      <td>Single</td>\n",
       "      <td>...</td>\n",
       "      <td>5 years</td>\n",
       "      <td>31 to 35</td>\n",
       "      <td>No</td>\n",
       "      <td>No</td>\n",
       "      <td>External</td>\n",
       "      <td>none</td>\n",
       "      <td>no change</td>\n",
       "      <td>1 vehicle</td>\n",
       "      <td>1994</td>\n",
       "      <td>Collision</td>\n",
       "    </tr>\n",
       "  </tbody>\n",
       "</table>\n",
       "<p>5 rows × 32 columns</p>\n",
       "</div>"
      ],
      "text/plain": [
       "  Month  WeekOfMonth  DayOfWeek    Make AccidentArea DayOfWeekClaimed  \\\n",
       "0   Dec            5  Wednesday   Honda        Urban          Tuesday   \n",
       "1   Jan            3  Wednesday   Honda        Urban           Monday   \n",
       "2   Oct            5     Friday   Honda        Urban         Thursday   \n",
       "3   Jun            2   Saturday  Toyota        Rural           Friday   \n",
       "4   Jan            5     Monday   Honda        Urban          Tuesday   \n",
       "\n",
       "  MonthClaimed  WeekOfMonthClaimed     Sex MaritalStatus  ...  AgeOfVehicle  \\\n",
       "0          Jan                   1  Female        Single  ...       3 years   \n",
       "1          Jan                   4    Male        Single  ...       6 years   \n",
       "2          Nov                   2    Male       Married  ...       7 years   \n",
       "3          Jul                   1    Male       Married  ...   more than 7   \n",
       "4          Feb                   2  Female        Single  ...       5 years   \n",
       "\n",
       "  AgeOfPolicyHolder PoliceReportFiled WitnessPresent AgentType  \\\n",
       "0          26 to 30                No             No  External   \n",
       "1          31 to 35               Yes             No  External   \n",
       "2          41 to 50                No             No  External   \n",
       "3          51 to 65               Yes             No  External   \n",
       "4          31 to 35                No             No  External   \n",
       "\n",
       "   NumberOfSuppliments  AddressChange_Claim  NumberOfCars  Year BasePolicy  \n",
       "0                 none               1 year        3 to 4  1994  Liability  \n",
       "1                 none            no change     1 vehicle  1994  Collision  \n",
       "2                 none            no change     1 vehicle  1994  Collision  \n",
       "3          more than 5            no change     1 vehicle  1994  Liability  \n",
       "4                 none            no change     1 vehicle  1994  Collision  \n",
       "\n",
       "[5 rows x 32 columns]"
      ]
     },
     "execution_count": 10,
     "metadata": {},
     "output_type": "execute_result"
    }
   ],
   "source": [
    "# Split input x and output y\n",
    "X, y = split_input_output(data = df,\n",
    "                          target_column = \"FraudFound_P\")\n",
    "\n",
    "# Show 5 first rows of input\n",
    "X.head()"
   ]
  },
  {
   "cell_type": "code",
   "execution_count": 11,
   "id": "91cf831b-d99d-4341-b377-8c3885da14a4",
   "metadata": {},
   "outputs": [
    {
     "data": {
      "text/plain": [
       "0    0\n",
       "1    0\n",
       "2    0\n",
       "3    0\n",
       "4    0\n",
       "Name: FraudFound_P, dtype: int64"
      ]
     },
     "execution_count": 11,
     "metadata": {},
     "output_type": "execute_result"
    }
   ],
   "source": [
    "# Show 5 first rows of output\n",
    "y.head()"
   ]
  },
  {
   "cell_type": "code",
   "execution_count": 12,
   "id": "fc5deb90-ba83-4c82-86ab-064c683bc279",
   "metadata": {},
   "outputs": [
    {
     "name": "stdout",
     "output_type": "stream",
     "text": [
      "Number of samples  : 15420\n",
      "Number of features : 32\n"
     ]
    }
   ],
   "source": [
    "# check data dimension\n",
    "n_samples, n_features = X.shape\n",
    "\n",
    "# print number samples and features\n",
    "print(f\"Number of samples  : {n_samples}\")\n",
    "print(f\"Number of features : {n_features}\")"
   ]
  },
  {
   "cell_type": "code",
   "execution_count": 13,
   "id": "3c100e63-dedf-4123-af8a-db7b46ce825f",
   "metadata": {},
   "outputs": [
    {
     "name": "stdout",
     "output_type": "stream",
     "text": [
      "name of features : Index(['Month', 'WeekOfMonth', 'DayOfWeek', 'Make', 'AccidentArea',\n",
      "       'DayOfWeekClaimed', 'MonthClaimed', 'WeekOfMonthClaimed', 'Sex',\n",
      "       'MaritalStatus', 'Age', 'Fault', 'PolicyType', 'VehicleCategory',\n",
      "       'VehiclePrice', 'PolicyNumber', 'RepNumber', 'Deductible',\n",
      "       'DriverRating', 'Days_Policy_Accident', 'Days_Policy_Claim',\n",
      "       'PastNumberOfClaims', 'AgeOfVehicle', 'AgeOfPolicyHolder',\n",
      "       'PoliceReportFiled', 'WitnessPresent', 'AgentType',\n",
      "       'NumberOfSuppliments', 'AddressChange_Claim', 'NumberOfCars', 'Year',\n",
      "       'BasePolicy'],\n",
      "      dtype='object')\n"
     ]
    }
   ],
   "source": [
    "# check data features name\n",
    "features_names = X.columns\n",
    "\n",
    "# print name of features\n",
    "print(f\"name of features : {features_names}\")"
   ]
  },
  {
   "cell_type": "code",
   "execution_count": 25,
   "id": "a99b8175-5341-4bb2-a52b-2508a1f5b569",
   "metadata": {},
   "outputs": [
    {
     "data": {
      "text/plain": [
       "26"
      ]
     },
     "execution_count": 25,
     "metadata": {},
     "output_type": "execute_result"
    }
   ],
   "source": [
    "checked = ['AccidentArea', 'DayOfWeekClaimed', 'MonthClaimed',\n",
    "\n",
    "       'WeekOfMonthClaimed', 'Sex', 'MaritalStatus', 'Age', 'Fault',\n",
    "\n",
    "       'PolicyType', 'VehicleCategory', 'VehiclePrice', 'PolicyNumber',\n",
    "\n",
    "       'RepNumber', 'Deductible', 'DriverRating', 'Days_Policy_Accident',\n",
    "\n",
    "       'PastNumberOfClaims', 'AgeOfPolicyHolder', 'PoliceReportFiled',\n",
    "\n",
    "       'WitnessPresent', 'AgentType', 'NumberOfSuppliments',\n",
    "\n",
    "       'AddressChange_Claim', 'NumberOfCars', 'BasePolicy', 'AgeOfVehicle']\n",
    "\n",
    "mine = ['Month', 'WeekOfMonth', 'DayOfWeek', 'Make', 'AccidentArea',\n",
    "       'DayOfWeekClaimed', 'MonthClaimed', 'WeekOfMonthClaimed', 'Sex',\n",
    "       'MaritalStatus', 'Age', 'Fault', 'PolicyType', 'VehicleCategory',\n",
    "       'VehiclePrice', 'PolicyNumber', 'RepNumber', 'Deductible',\n",
    "       'DriverRating', 'Days_Policy_Accident', 'Days_Policy_Claim',\n",
    "       'PastNumberOfClaims', 'AgeOfVehicle', 'AgeOfPolicyHolder',\n",
    "       'PoliceReportFiled', 'WitnessPresent', 'AgentType',\n",
    "       'NumberOfSuppliments', 'AddressChange_Claim', 'NumberOfCars', 'Year',\n",
    "       'BasePolicy']\n",
    "\n",
    "len(list(set(mine).intersection(set(checked))))\n"
   ]
  },
  {
   "cell_type": "code",
   "execution_count": 30,
   "id": "92be2323-e05e-4644-8f30-620675c5f4b6",
   "metadata": {},
   "outputs": [
    {
     "data": {
      "text/plain": [
       "['Year', 'Days_Policy_Claim', 'DayOfWeek', 'Make', 'WeekOfMonth', 'Month']"
      ]
     },
     "execution_count": 30,
     "metadata": {},
     "output_type": "execute_result"
    }
   ],
   "source": [
    "list(set(features_names)-set(checked))"
   ]
  },
  {
   "cell_type": "code",
   "execution_count": 35,
   "id": "13221e87-9410-4384-8fda-f2b4f89c4717",
   "metadata": {},
   "outputs": [],
   "source": [
    "from sklearn.model_selection import train_test_split\n",
    "\n",
    "def split_train_valid_test(X, y, test_size, valid_size, stratify, random_state=42):\n",
    "    \"\"\"\n",
    "    Split data into train & test\n",
    "\n",
    "    Parameters\n",
    "    ----------\n",
    "    X : pd.DataFrame\n",
    "        The input data\n",
    "\n",
    "    y : pd.Series\n",
    "        The output data\n",
    "\n",
    "    test_size : float\n",
    "        The proportion of number of test data to total data\n",
    "\n",
    "    valid_size : float\n",
    "        The proportion of number of validation data to total data\n",
    "\n",
    "    stratify : pd.Series\n",
    "        Reference to stratify the splitting\n",
    "\n",
    "    random_state : int, default=42\n",
    "        The random seed, for reproducibility\n",
    "\n",
    "    Returns\n",
    "    -------\n",
    "    X_train : pd.DataFrame\n",
    "        The input train data\n",
    "\n",
    "    X_test : pd.DataFrame\n",
    "        The input test data\n",
    "\n",
    "    y_train : pd.Series\n",
    "        The output train data\n",
    "\n",
    "    y_test : pd.Series\n",
    "        The output test data\n",
    "    \"\"\"\n",
    "    # Split the data\n",
    "    X_train, X_not_train, y_train, y_not_train = train_test_split(\n",
    "        X,\n",
    "        y,\n",
    "        test_size = test_size + valid_size,\n",
    "        stratify = stratify,\n",
    "        random_state = random_state\n",
    "    )\n",
    "\n",
    "    # Then, split valid and test from not_train\n",
    "    X_valid, X_test, y_valid, y_test = train_test_split(\n",
    "        X_not_train,\n",
    "        y_not_train,\n",
    "        test_size = valid_size/(test_size + valid_size),\n",
    "        stratify = y_not_train,\n",
    "        random_state = random_state\n",
    "    )\n",
    "\n",
    "    # Validate\n",
    "    print('X train shape:', X_train.shape)\n",
    "    print('y train shape:', y_train.shape)\n",
    "    print('X valid shape :', X_valid.shape)\n",
    "    print('y valid shape :', y_valid.shape)\n",
    "    print('X test shape :', X_test.shape)\n",
    "    print('y test shape :', y_test.shape)\n",
    "\n",
    "    return X_train, X_valid, X_test, y_train, y_valid, y_test\n"
   ]
  },
  {
   "cell_type": "code",
   "execution_count": 34,
   "id": "e9b417de-ab55-4b8c-9757-b5b4c8f6ecad",
   "metadata": {},
   "outputs": [],
   "source": [
    "#%pip install scikit-learn"
   ]
  },
  {
   "cell_type": "code",
   "execution_count": 36,
   "id": "fba8d0fa-79e0-470c-be7e-5b636079fd88",
   "metadata": {},
   "outputs": [
    {
     "name": "stdout",
     "output_type": "stream",
     "text": [
      "X train shape: (9252, 32)\n",
      "y train shape: (9252,)\n",
      "X valid shape : (3084, 32)\n",
      "y valid shape : (3084,)\n",
      "X test shape : (3084, 32)\n",
      "y test shape : (3084,)\n"
     ]
    }
   ],
   "source": [
    "# Run the code\n",
    "splitted_data = split_train_valid_test(\n",
    "    X = X,\n",
    "    y = y,\n",
    "    test_size = 0.2,\n",
    "    valid_size = 0.2,\n",
    "    stratify = y,\n",
    "    random_state = 42\n",
    ")\n",
    "\n",
    "X_train, X_valid, X_test, y_train, y_valid, y_test = splitted_data"
   ]
  },
  {
   "cell_type": "markdown",
   "id": "53ba5740-7091-4ec0-b03e-3e0950aaa80b",
   "metadata": {},
   "source": [
    "# <font color='blue'> 4. Exploratory Data Analysis"
   ]
  },
  {
   "cell_type": "markdown",
   "id": "d1850e40-2cd2-4455-bd6a-e02eec996e99",
   "metadata": {},
   "source": [
    "- Ideally, we perform EDA to get to know the data better by\n",
    "  - Finding the data distribution / correlation\n",
    "  - Finding the outlier and red flag\n",
    "  - Finding how to handle missing values\n",
    "  - etc.\n",
    "\n",
    "- In this session, we:\n",
    "  - Check for statistics decriptives\n",
    "  - Check outlier and red flag\n",
    "  - Check for missing values\n",
    "  - Check for data distribution\n",
    "\n",
    "- Then, we can plan for pre-processing steps if need"
   ]
  },
  {
   "cell_type": "code",
   "execution_count": 40,
   "id": "41f79978-0d7a-47ed-94cf-cdadfa38f3aa",
   "metadata": {},
   "outputs": [
    {
     "name": "stdout",
     "output_type": "stream",
     "text": [
      "X train shape: (9252, 32)\n",
      "y train shape: (9252,)\n"
     ]
    }
   ],
   "source": [
    "# Print train set shape\n",
    "print('X train shape:', X_train.shape)\n",
    "print('y train shape:', y_train.shape)"
   ]
  },
  {
   "cell_type": "code",
   "execution_count": 41,
   "id": "f506be05-490f-4512-9c40-37a0a0c88f63",
   "metadata": {},
   "outputs": [
    {
     "data": {
      "text/html": [
       "<div>\n",
       "<style scoped>\n",
       "    .dataframe tbody tr th:only-of-type {\n",
       "        vertical-align: middle;\n",
       "    }\n",
       "\n",
       "    .dataframe tbody tr th {\n",
       "        vertical-align: top;\n",
       "    }\n",
       "\n",
       "    .dataframe thead th {\n",
       "        text-align: right;\n",
       "    }\n",
       "</style>\n",
       "<table border=\"1\" class=\"dataframe\">\n",
       "  <thead>\n",
       "    <tr style=\"text-align: right;\">\n",
       "      <th></th>\n",
       "      <th>Month</th>\n",
       "      <th>WeekOfMonth</th>\n",
       "      <th>DayOfWeek</th>\n",
       "      <th>Make</th>\n",
       "      <th>AccidentArea</th>\n",
       "      <th>DayOfWeekClaimed</th>\n",
       "      <th>MonthClaimed</th>\n",
       "      <th>WeekOfMonthClaimed</th>\n",
       "      <th>Sex</th>\n",
       "      <th>MaritalStatus</th>\n",
       "      <th>...</th>\n",
       "      <th>AgeOfPolicyHolder</th>\n",
       "      <th>PoliceReportFiled</th>\n",
       "      <th>WitnessPresent</th>\n",
       "      <th>AgentType</th>\n",
       "      <th>NumberOfSuppliments</th>\n",
       "      <th>AddressChange_Claim</th>\n",
       "      <th>NumberOfCars</th>\n",
       "      <th>Year</th>\n",
       "      <th>BasePolicy</th>\n",
       "      <th>FraudFound_P</th>\n",
       "    </tr>\n",
       "  </thead>\n",
       "  <tbody>\n",
       "    <tr>\n",
       "      <th>2839</th>\n",
       "      <td>Jan</td>\n",
       "      <td>1</td>\n",
       "      <td>Tuesday</td>\n",
       "      <td>Pontiac</td>\n",
       "      <td>Urban</td>\n",
       "      <td>Thursday</td>\n",
       "      <td>Jan</td>\n",
       "      <td>1</td>\n",
       "      <td>Male</td>\n",
       "      <td>Married</td>\n",
       "      <td>...</td>\n",
       "      <td>51 to 65</td>\n",
       "      <td>No</td>\n",
       "      <td>No</td>\n",
       "      <td>External</td>\n",
       "      <td>more than 5</td>\n",
       "      <td>no change</td>\n",
       "      <td>1 vehicle</td>\n",
       "      <td>1994</td>\n",
       "      <td>Liability</td>\n",
       "      <td>0</td>\n",
       "    </tr>\n",
       "    <tr>\n",
       "      <th>5783</th>\n",
       "      <td>Mar</td>\n",
       "      <td>2</td>\n",
       "      <td>Friday</td>\n",
       "      <td>Pontiac</td>\n",
       "      <td>Urban</td>\n",
       "      <td>Friday</td>\n",
       "      <td>Mar</td>\n",
       "      <td>2</td>\n",
       "      <td>Male</td>\n",
       "      <td>Married</td>\n",
       "      <td>...</td>\n",
       "      <td>36 to 40</td>\n",
       "      <td>No</td>\n",
       "      <td>No</td>\n",
       "      <td>External</td>\n",
       "      <td>none</td>\n",
       "      <td>no change</td>\n",
       "      <td>1 vehicle</td>\n",
       "      <td>1994</td>\n",
       "      <td>All Perils</td>\n",
       "      <td>0</td>\n",
       "    </tr>\n",
       "    <tr>\n",
       "      <th>10425</th>\n",
       "      <td>Jan</td>\n",
       "      <td>1</td>\n",
       "      <td>Tuesday</td>\n",
       "      <td>Pontiac</td>\n",
       "      <td>Rural</td>\n",
       "      <td>Monday</td>\n",
       "      <td>Jan</td>\n",
       "      <td>2</td>\n",
       "      <td>Male</td>\n",
       "      <td>Married</td>\n",
       "      <td>...</td>\n",
       "      <td>36 to 40</td>\n",
       "      <td>No</td>\n",
       "      <td>No</td>\n",
       "      <td>External</td>\n",
       "      <td>none</td>\n",
       "      <td>no change</td>\n",
       "      <td>1 vehicle</td>\n",
       "      <td>1995</td>\n",
       "      <td>Collision</td>\n",
       "      <td>0</td>\n",
       "    </tr>\n",
       "    <tr>\n",
       "      <th>10966</th>\n",
       "      <td>Jan</td>\n",
       "      <td>1</td>\n",
       "      <td>Thursday</td>\n",
       "      <td>Toyota</td>\n",
       "      <td>Urban</td>\n",
       "      <td>Wednesday</td>\n",
       "      <td>Jan</td>\n",
       "      <td>2</td>\n",
       "      <td>Male</td>\n",
       "      <td>Married</td>\n",
       "      <td>...</td>\n",
       "      <td>51 to 65</td>\n",
       "      <td>No</td>\n",
       "      <td>No</td>\n",
       "      <td>External</td>\n",
       "      <td>none</td>\n",
       "      <td>no change</td>\n",
       "      <td>1 vehicle</td>\n",
       "      <td>1995</td>\n",
       "      <td>Liability</td>\n",
       "      <td>0</td>\n",
       "    </tr>\n",
       "    <tr>\n",
       "      <th>14520</th>\n",
       "      <td>Jul</td>\n",
       "      <td>2</td>\n",
       "      <td>Sunday</td>\n",
       "      <td>Dodge</td>\n",
       "      <td>Rural</td>\n",
       "      <td>Tuesday</td>\n",
       "      <td>Jul</td>\n",
       "      <td>2</td>\n",
       "      <td>Female</td>\n",
       "      <td>Single</td>\n",
       "      <td>...</td>\n",
       "      <td>31 to 35</td>\n",
       "      <td>No</td>\n",
       "      <td>No</td>\n",
       "      <td>External</td>\n",
       "      <td>more than 5</td>\n",
       "      <td>no change</td>\n",
       "      <td>1 vehicle</td>\n",
       "      <td>1996</td>\n",
       "      <td>Liability</td>\n",
       "      <td>0</td>\n",
       "    </tr>\n",
       "  </tbody>\n",
       "</table>\n",
       "<p>5 rows × 33 columns</p>\n",
       "</div>"
      ],
      "text/plain": [
       "      Month  WeekOfMonth DayOfWeek     Make AccidentArea DayOfWeekClaimed  \\\n",
       "2839    Jan            1   Tuesday  Pontiac        Urban         Thursday   \n",
       "5783    Mar            2    Friday  Pontiac        Urban           Friday   \n",
       "10425   Jan            1   Tuesday  Pontiac        Rural           Monday   \n",
       "10966   Jan            1  Thursday   Toyota        Urban        Wednesday   \n",
       "14520   Jul            2    Sunday    Dodge        Rural          Tuesday   \n",
       "\n",
       "      MonthClaimed  WeekOfMonthClaimed     Sex MaritalStatus  ...  \\\n",
       "2839           Jan                   1    Male       Married  ...   \n",
       "5783           Mar                   2    Male       Married  ...   \n",
       "10425          Jan                   2    Male       Married  ...   \n",
       "10966          Jan                   2    Male       Married  ...   \n",
       "14520          Jul                   2  Female        Single  ...   \n",
       "\n",
       "       AgeOfPolicyHolder PoliceReportFiled WitnessPresent AgentType  \\\n",
       "2839            51 to 65                No             No  External   \n",
       "5783            36 to 40                No             No  External   \n",
       "10425           36 to 40                No             No  External   \n",
       "10966           51 to 65                No             No  External   \n",
       "14520           31 to 35                No             No  External   \n",
       "\n",
       "      NumberOfSuppliments  AddressChange_Claim  NumberOfCars  Year  \\\n",
       "2839          more than 5            no change     1 vehicle  1994   \n",
       "5783                 none            no change     1 vehicle  1994   \n",
       "10425                none            no change     1 vehicle  1995   \n",
       "10966                none            no change     1 vehicle  1995   \n",
       "14520         more than 5            no change     1 vehicle  1996   \n",
       "\n",
       "       BasePolicy FraudFound_P  \n",
       "2839    Liability            0  \n",
       "5783   All Perils            0  \n",
       "10425   Collision            0  \n",
       "10966   Liability            0  \n",
       "14520   Liability            0  \n",
       "\n",
       "[5 rows x 33 columns]"
      ]
     },
     "execution_count": 41,
     "metadata": {},
     "output_type": "execute_result"
    }
   ],
   "source": [
    "# create EDA dataset\n",
    "eda_df = pd.concat([X_train, y_train],\n",
    "                   axis=1)\n",
    "eda_df.head()"
   ]
  },
  {
   "cell_type": "code",
   "execution_count": 42,
   "id": "305320f6-6b3a-4f61-8367-d54594d1c922",
   "metadata": {},
   "outputs": [
    {
     "name": "stdout",
     "output_type": "stream",
     "text": [
      "eda_df shape: (9252, 33)\n"
     ]
    }
   ],
   "source": [
    "# Print train set shape after concat\n",
    "print('eda_df shape:', eda_df.shape)"
   ]
  },
  {
   "cell_type": "markdown",
   "id": "c410d91d-6c0f-46d2-afee-0a5d5f573d1f",
   "metadata": {},
   "source": [
    "## 4.1 Check for statistics descriptives\n",
    "___"
   ]
  },
  {
   "cell_type": "code",
   "execution_count": 43,
   "id": "e0844372-8a72-41da-8f68-eaba70575bb5",
   "metadata": {},
   "outputs": [
    {
     "data": {
      "text/html": [
       "<div>\n",
       "<style scoped>\n",
       "    .dataframe tbody tr th:only-of-type {\n",
       "        vertical-align: middle;\n",
       "    }\n",
       "\n",
       "    .dataframe tbody tr th {\n",
       "        vertical-align: top;\n",
       "    }\n",
       "\n",
       "    .dataframe thead th {\n",
       "        text-align: right;\n",
       "    }\n",
       "</style>\n",
       "<table border=\"1\" class=\"dataframe\">\n",
       "  <thead>\n",
       "    <tr style=\"text-align: right;\">\n",
       "      <th></th>\n",
       "      <th>count</th>\n",
       "      <th>mean</th>\n",
       "      <th>std</th>\n",
       "      <th>min</th>\n",
       "      <th>25%</th>\n",
       "      <th>50%</th>\n",
       "      <th>75%</th>\n",
       "      <th>max</th>\n",
       "    </tr>\n",
       "  </thead>\n",
       "  <tbody>\n",
       "    <tr>\n",
       "      <th>WeekOfMonth</th>\n",
       "      <td>9252.0</td>\n",
       "      <td>2.789667</td>\n",
       "      <td>1.281091</td>\n",
       "      <td>1.0</td>\n",
       "      <td>2.00</td>\n",
       "      <td>3.0</td>\n",
       "      <td>4.00</td>\n",
       "      <td>5.0</td>\n",
       "    </tr>\n",
       "    <tr>\n",
       "      <th>WeekOfMonthClaimed</th>\n",
       "      <td>9252.0</td>\n",
       "      <td>2.698768</td>\n",
       "      <td>1.256675</td>\n",
       "      <td>1.0</td>\n",
       "      <td>2.00</td>\n",
       "      <td>3.0</td>\n",
       "      <td>4.00</td>\n",
       "      <td>5.0</td>\n",
       "    </tr>\n",
       "    <tr>\n",
       "      <th>Age</th>\n",
       "      <td>9252.0</td>\n",
       "      <td>39.852140</td>\n",
       "      <td>13.516529</td>\n",
       "      <td>0.0</td>\n",
       "      <td>30.00</td>\n",
       "      <td>38.0</td>\n",
       "      <td>48.00</td>\n",
       "      <td>80.0</td>\n",
       "    </tr>\n",
       "    <tr>\n",
       "      <th>PolicyNumber</th>\n",
       "      <td>9252.0</td>\n",
       "      <td>7672.495460</td>\n",
       "      <td>4431.670354</td>\n",
       "      <td>1.0</td>\n",
       "      <td>3830.75</td>\n",
       "      <td>7702.0</td>\n",
       "      <td>11467.75</td>\n",
       "      <td>15420.0</td>\n",
       "    </tr>\n",
       "    <tr>\n",
       "      <th>RepNumber</th>\n",
       "      <td>9252.0</td>\n",
       "      <td>8.408560</td>\n",
       "      <td>4.616051</td>\n",
       "      <td>1.0</td>\n",
       "      <td>4.00</td>\n",
       "      <td>8.0</td>\n",
       "      <td>12.00</td>\n",
       "      <td>16.0</td>\n",
       "    </tr>\n",
       "    <tr>\n",
       "      <th>Deductible</th>\n",
       "      <td>9252.0</td>\n",
       "      <td>408.365759</td>\n",
       "      <td>46.301417</td>\n",
       "      <td>300.0</td>\n",
       "      <td>400.00</td>\n",
       "      <td>400.0</td>\n",
       "      <td>400.00</td>\n",
       "      <td>700.0</td>\n",
       "    </tr>\n",
       "    <tr>\n",
       "      <th>DriverRating</th>\n",
       "      <td>9252.0</td>\n",
       "      <td>2.499676</td>\n",
       "      <td>1.119157</td>\n",
       "      <td>1.0</td>\n",
       "      <td>1.00</td>\n",
       "      <td>3.0</td>\n",
       "      <td>3.00</td>\n",
       "      <td>4.0</td>\n",
       "    </tr>\n",
       "    <tr>\n",
       "      <th>Year</th>\n",
       "      <td>9252.0</td>\n",
       "      <td>1994.857112</td>\n",
       "      <td>0.800571</td>\n",
       "      <td>1994.0</td>\n",
       "      <td>1994.00</td>\n",
       "      <td>1995.0</td>\n",
       "      <td>1996.00</td>\n",
       "      <td>1996.0</td>\n",
       "    </tr>\n",
       "    <tr>\n",
       "      <th>FraudFound_P</th>\n",
       "      <td>9252.0</td>\n",
       "      <td>0.059879</td>\n",
       "      <td>0.237275</td>\n",
       "      <td>0.0</td>\n",
       "      <td>0.00</td>\n",
       "      <td>0.0</td>\n",
       "      <td>0.00</td>\n",
       "      <td>1.0</td>\n",
       "    </tr>\n",
       "  </tbody>\n",
       "</table>\n",
       "</div>"
      ],
      "text/plain": [
       "                     count         mean          std     min      25%     50%  \\\n",
       "WeekOfMonth         9252.0     2.789667     1.281091     1.0     2.00     3.0   \n",
       "WeekOfMonthClaimed  9252.0     2.698768     1.256675     1.0     2.00     3.0   \n",
       "Age                 9252.0    39.852140    13.516529     0.0    30.00    38.0   \n",
       "PolicyNumber        9252.0  7672.495460  4431.670354     1.0  3830.75  7702.0   \n",
       "RepNumber           9252.0     8.408560     4.616051     1.0     4.00     8.0   \n",
       "Deductible          9252.0   408.365759    46.301417   300.0   400.00   400.0   \n",
       "DriverRating        9252.0     2.499676     1.119157     1.0     1.00     3.0   \n",
       "Year                9252.0  1994.857112     0.800571  1994.0  1994.00  1995.0   \n",
       "FraudFound_P        9252.0     0.059879     0.237275     0.0     0.00     0.0   \n",
       "\n",
       "                         75%      max  \n",
       "WeekOfMonth             4.00      5.0  \n",
       "WeekOfMonthClaimed      4.00      5.0  \n",
       "Age                    48.00     80.0  \n",
       "PolicyNumber        11467.75  15420.0  \n",
       "RepNumber              12.00     16.0  \n",
       "Deductible            400.00    700.0  \n",
       "DriverRating            3.00      4.0  \n",
       "Year                 1996.00   1996.0  \n",
       "FraudFound_P            0.00      1.0  "
      ]
     },
     "execution_count": 43,
     "metadata": {},
     "output_type": "execute_result"
    }
   ],
   "source": [
    "# Check min, max and quartile values\n",
    "eda_df.describe().T"
   ]
  },
  {
   "cell_type": "code",
   "execution_count": 50,
   "id": "6a884ef8-e98d-41ad-9215-99ee2eaf0d9d",
   "metadata": {},
   "outputs": [],
   "source": [
    "#eda_df.select_dtypes(include='int64').info()"
   ]
  },
  {
   "cell_type": "markdown",
   "id": "fbc529e8-e45d-4571-922d-e89bd3439ffe",
   "metadata": {},
   "source": [
    "## 4.2 Check for missing values\n",
    "___"
   ]
  },
  {
   "cell_type": "code",
   "execution_count": 51,
   "id": "e6008293-627f-4c72-9226-1815484afef0",
   "metadata": {},
   "outputs": [
    {
     "data": {
      "text/plain": [
       "Month                   0\n",
       "WeekOfMonth             0\n",
       "DayOfWeek               0\n",
       "Make                    0\n",
       "AccidentArea            0\n",
       "DayOfWeekClaimed        0\n",
       "MonthClaimed            0\n",
       "WeekOfMonthClaimed      0\n",
       "Sex                     0\n",
       "MaritalStatus           0\n",
       "Age                     0\n",
       "Fault                   0\n",
       "PolicyType              0\n",
       "VehicleCategory         0\n",
       "VehiclePrice            0\n",
       "PolicyNumber            0\n",
       "RepNumber               0\n",
       "Deductible              0\n",
       "DriverRating            0\n",
       "Days_Policy_Accident    0\n",
       "Days_Policy_Claim       0\n",
       "PastNumberOfClaims      0\n",
       "AgeOfVehicle            0\n",
       "AgeOfPolicyHolder       0\n",
       "PoliceReportFiled       0\n",
       "WitnessPresent          0\n",
       "AgentType               0\n",
       "NumberOfSuppliments     0\n",
       "AddressChange_Claim     0\n",
       "NumberOfCars            0\n",
       "Year                    0\n",
       "BasePolicy              0\n",
       "FraudFound_P            0\n",
       "dtype: int64"
      ]
     },
     "execution_count": 51,
     "metadata": {},
     "output_type": "execute_result"
    }
   ],
   "source": [
    "eda_df.isna().sum()"
   ]
  },
  {
   "cell_type": "markdown",
   "id": "67c24437-e13e-4874-8eb7-f15cfa015fe5",
   "metadata": {},
   "source": [
    "**Summary**\n",
    "- There are no missing values"
   ]
  },
  {
   "cell_type": "markdown",
   "id": "625846fe-70df-4cab-9aad-3564954e1115",
   "metadata": {},
   "source": [
    "## 4.3 Check for distribution\n"
   ]
  },
  {
   "cell_type": "markdown",
   "id": "3f79856d-31cb-4723-8351-818cc0eb12de",
   "metadata": {},
   "source": [
    "### **1. Class Proportion**\n"
   ]
  },
  {
   "cell_type": "code",
   "execution_count": 54,
   "id": "61134ddb-8bed-4cd1-b0c4-b7bae62efb8d",
   "metadata": {},
   "outputs": [
    {
     "data": {
      "text/plain": [
       "FraudFound_P\n",
       "0    0.940121\n",
       "1    0.059879\n",
       "Name: proportion, dtype: float64"
      ]
     },
     "execution_count": 54,
     "metadata": {},
     "output_type": "execute_result"
    }
   ],
   "source": [
    "eda_df[\"FraudFound_P\"].value_counts(normalize = True)"
   ]
  },
  {
   "cell_type": "code",
   "execution_count": 55,
   "id": "cbb36aad-e170-43ab-b355-83febb1ca654",
   "metadata": {},
   "outputs": [
    {
     "data": {
      "text/plain": [
       "FraudFound_P\n",
       "0    8698\n",
       "1     554\n",
       "Name: count, dtype: int64"
      ]
     },
     "execution_count": 55,
     "metadata": {},
     "output_type": "execute_result"
    }
   ],
   "source": [
    "eda_df[\"FraudFound_P\"].value_counts()"
   ]
  },
  {
   "cell_type": "code",
   "execution_count": 56,
   "id": "e51f7aae-3364-4434-acce-628a0e712c08",
   "metadata": {},
   "outputs": [
    {
     "data": {
      "image/png": "[encoded data removed]",
      "text/plain": [
       "<Figure size 640x480 with 1 Axes>"
      ]
     },
     "metadata": {},
     "output_type": "display_data"
    }
   ],
   "source": [
    "# Plot\n",
    "(\n",
    "    eda_df[\"FraudFound_P\"]\n",
    "    .value_counts(normalize = True)\n",
    "    .plot\n",
    "    .bar()\n",
    ")\n",
    "\n",
    "plt.xlabel(\"Class: 0 {not-fraud}, 1 {fraudulent}\")\n",
    "plt.ylabel(\"Proportion\")\n",
    "plt.title(\"Proportion of fraudulent data\")\n",
    "plt.show()"
   ]
  },
  {
   "cell_type": "markdown",
   "id": "1bd39e7e-9ab1-49ca-adb0-2040c19c333d",
   "metadata": {},
   "source": [
    "Only 5.9% fraud found in training data (which is good!, what happen if the company has the other way around?)\n",
    "\n",
    "Next, check each variable's distribution and whether there's any difference in input variables related to the output"
   ]
  },
  {
   "cell_type": "markdown",
   "id": "220c8269-03ff-4aa8-b367-eb78b41827c4",
   "metadata": {},
   "source": [
    "### **2. Accident Area**\n"
   ]
  },
  {
   "cell_type": "code",
   "execution_count": 59,
   "id": "102c3566-a136-440c-a74a-fa4b7bf5d968",
   "metadata": {},
   "outputs": [
    {
     "data": {
      "image/png": "[encoded data removed]",
      "text/plain": [
       "<Figure size 640x480 with 1 Axes>"
      ]
     },
     "metadata": {},
     "output_type": "display_data"
    }
   ],
   "source": [
    "# Visualize the AccidentArea\n",
    "sns.countplot(data = eda_df,\n",
    "              x = \"AccidentArea\")\n",
    "\n",
    "plt.title(\"AccidentArea\")\n",
    "plt.show()"
   ]
  },
  {
   "cell_type": "code",
   "execution_count": 60,
   "id": "d447efb7-93c7-4c28-b561-7e9d8f85fc9e",
   "metadata": {},
   "outputs": [
    {
     "data": {
      "image/png": "[encoded data removed]",
      "text/plain": [
       "<Figure size 640x480 with 1 Axes>"
      ]
     },
     "metadata": {},
     "output_type": "display_data"
    }
   ],
   "source": [
    "# Visualize the AccidentArea\n",
    "sns.barplot(data = eda_df,\n",
    "            x = \"AccidentArea\",\n",
    "            y = \"FraudFound_P\",\n",
    "            errorbar = None)\n",
    "\n",
    "plt.title(\"AccidentArea\")\n",
    "plt.show()"
   ]
  },
  {
   "cell_type": "markdown",
   "id": "c8ecead2-598a-4736-aa2f-25e8a71f9959",
   "metadata": {},
   "source": [
    "- Most accidents were taking place in urban area\n",
    "- Rural area have higher probability of fraud than urban area"
   ]
  },
  {
   "cell_type": "markdown",
   "id": "aaf21486-4a1f-4975-8dfa-949e5fd414a0",
   "metadata": {},
   "source": [
    "### **3. Police Report Filed**\n"
   ]
  },
  {
   "cell_type": "code",
   "execution_count": 61,
   "id": "f68ddb40-3333-4101-a00c-2aa0443f028d",
   "metadata": {},
   "outputs": [
    {
     "data": {
      "image/png": "[encoded data removed]",
      "text/plain": [
       "<Figure size 640x480 with 1 Axes>"
      ]
     },
     "metadata": {},
     "output_type": "display_data"
    }
   ],
   "source": [
    "# Visualize the Police Report Filed\n",
    "sns.countplot(data = eda_df,\n",
    "              x = \"PoliceReportFiled\")\n",
    "\n",
    "plt.title(\"Police Report Filed\")\n",
    "plt.show()"
   ]
  },
  {
   "cell_type": "code",
   "execution_count": 62,
   "id": "53b98d76-86ad-46d6-a7a5-3b17b95a4d54",
   "metadata": {},
   "outputs": [
    {
     "data": {
      "text/plain": [
       "PoliceReportFiled\n",
       "No     8995\n",
       "Yes     257\n",
       "Name: count, dtype: int64"
      ]
     },
     "execution_count": 62,
     "metadata": {},
     "output_type": "execute_result"
    }
   ],
   "source": [
    "eda_df['PoliceReportFiled'].value_counts()"
   ]
  },
  {
   "cell_type": "code",
   "execution_count": 63,
   "id": "c84e6420-250e-4e3a-b094-7cc8d0ac0b71",
   "metadata": {},
   "outputs": [
    {
     "data": {
      "image/png": "[encoded data removed]",
      "text/plain": [
       "<Figure size 640x480 with 1 Axes>"
      ]
     },
     "metadata": {},
     "output_type": "display_data"
    }
   ],
   "source": [
    "# Visualize the Police Report Filed\n",
    "sns.barplot(data = eda_df,\n",
    "            x = \"PoliceReportFiled\",\n",
    "            y = \"FraudFound_P\",\n",
    "            errorbar = None)\n",
    "\n",
    "plt.title(\"Police Report Filed\")\n",
    "plt.show()"
   ]
  },
  {
   "cell_type": "code",
   "execution_count": 64,
   "id": "2616b9e5-ee02-45fa-9ab8-74b2954bad84",
   "metadata": {},
   "outputs": [
    {
     "data": {
      "text/plain": [
       "PoliceReportFiled  FraudFound_P\n",
       "No                 0               8453\n",
       "                   1                542\n",
       "Yes                0                245\n",
       "                   1                 12\n",
       "Name: count, dtype: int64"
      ]
     },
     "execution_count": 64,
     "metadata": {},
     "output_type": "execute_result"
    }
   ],
   "source": [
    "eda_df[['PoliceReportFiled','FraudFound_P']].value_counts()"
   ]
  },
  {
   "cell_type": "code",
   "execution_count": 86,
   "id": "4ea36608-2a67-46aa-942d-ff241a40b3f4",
   "metadata": {},
   "outputs": [],
   "source": [
    "#eda_df[['PoliceReportFiled','FraudFound_P']].value_counts(normalize=True)\n"
   ]
  },
  {
   "cell_type": "code",
   "execution_count": 83,
   "id": "61905ee9-80a4-440d-bef6-7a6dc85d3754",
   "metadata": {},
   "outputs": [
    {
     "data": {
      "text/plain": [
       "PoliceReportFiled  FraudFound_P\n",
       "No                 0               0.939744\n",
       "                   1               0.060256\n",
       "Yes                0               0.953307\n",
       "                   1               0.046693\n",
       "Name: proportion, dtype: float64"
      ]
     },
     "execution_count": 83,
     "metadata": {},
     "output_type": "execute_result"
    }
   ],
   "source": [
    "eda_df.groupby('PoliceReportFiled')['FraudFound_P'].value_counts(normalize=True)"
   ]
  },
  {
   "cell_type": "code",
   "execution_count": 85,
   "id": "e178a429-b338-4efb-acf7-d8f5480ef242",
   "metadata": {},
   "outputs": [
    {
     "data": {
      "text/plain": [
       "PoliceReportFiled\n",
       "No     0.060256\n",
       "Yes    0.046693\n",
       "Name: proportion, dtype: float64"
      ]
     },
     "execution_count": 85,
     "metadata": {},
     "output_type": "execute_result"
    }
   ],
   "source": [
    "eda_df.groupby('PoliceReportFiled')['FraudFound_P'].value_counts(normalize=True).loc[:,1]"
   ]
  },
  {
   "cell_type": "markdown",
   "id": "9fea21a3-8cd2-4baa-be92-9986c91a2958",
   "metadata": {},
   "source": [
    "- Very small counts of accidents having  police report filed\n",
    "- Not having police report filed have higher probability of fraud than having police report filed"
   ]
  },
  {
   "cell_type": "markdown",
   "id": "59e11309-15b4-4d89-947b-1e8ca62d104b",
   "metadata": {},
   "source": [
    "### **4. Witness Present**\n"
   ]
  },
  {
   "cell_type": "code",
   "execution_count": 88,
   "id": "5c5cafd6-46c5-4ae2-9405-7341c106be86",
   "metadata": {},
   "outputs": [
    {
     "data": {
      "image/png": "[encoded data removed]",
      "text/plain": [
       "<Figure size 640x480 with 1 Axes>"
      ]
     },
     "metadata": {},
     "output_type": "display_data"
    }
   ],
   "source": [
    "# Visualize the WitnessPresent\n",
    "sns.countplot(data = eda_df,\n",
    "              x = \"WitnessPresent\")\n",
    "\n",
    "plt.title(\"Witness Present\")\n",
    "plt.show()"
   ]
  },
  {
   "cell_type": "code",
   "execution_count": 89,
   "id": "6fa51f04-8187-4355-b08c-ebc679fa4e38",
   "metadata": {},
   "outputs": [
    {
     "data": {
      "image/png": "[encoded data removed]",
      "text/plain": [
       "<Figure size 640x480 with 1 Axes>"
      ]
     },
     "metadata": {},
     "output_type": "display_data"
    }
   ],
   "source": [
    "# Visualize the Witness Present\n",
    "sns.barplot(data = eda_df,\n",
    "            x = \"WitnessPresent\",\n",
    "            y = \"FraudFound_P\",\n",
    "            errorbar = None)\n",
    "\n",
    "plt.title(\"Witness Present\")\n",
    "plt.show()"
   ]
  },
  {
   "cell_type": "markdown",
   "id": "4965c409-8474-478b-980c-eba7f2f296af",
   "metadata": {},
   "source": [
    "- Most accidents having no witness present police report filed\n",
    "- Accidents that have no witness have higher probability of fraud than accidents that having witness"
   ]
  },
  {
   "cell_type": "markdown",
   "id": "270e4ec4-3b57-4bb4-a4c5-947e8a291084",
   "metadata": {},
   "source": [
    "### **5. Vehicle Category**\n",
    "___"
   ]
  },
  {
   "cell_type": "code",
   "execution_count": 92,
   "id": "eea0f5e3-1cbe-42e5-8073-eb388d4749fd",
   "metadata": {},
   "outputs": [
    {
     "data": {
      "image/png": "[encoded data removed]",
      "text/plain": [
       "<Figure size 640x480 with 1 Axes>"
      ]
     },
     "metadata": {},
     "output_type": "display_data"
    }
   ],
   "source": [
    "# Visualize the VehicleCategory\n",
    "sns.barplot(data = eda_df,\n",
    "            x = \"VehicleCategory\",\n",
    "            y = \"FraudFound_P\",\n",
    "            errorbar = None)\n",
    "\n",
    "plt.title(\"Vehicle Category\")\n",
    "plt.show()"
   ]
  },
  {
   "cell_type": "markdown",
   "id": "f3dee286-c88d-4136-8eb9-4e722030686e",
   "metadata": {},
   "source": [
    "- Most claims having sedan category\n",
    "- Claims with utility category have higher probability of fraud than others"
   ]
  },
  {
   "cell_type": "markdown",
   "id": "8839a41b-7dec-4899-a4ec-e2b3058f5110",
   "metadata": {},
   "source": [
    "### **6. Vehicle Price**\n"
   ]
  },
  {
   "cell_type": "code",
   "execution_count": 95,
   "id": "a7e665ef-ad33-46b4-a0b1-c5e5899a5d56",
   "metadata": {},
   "outputs": [
    {
     "data": {
      "image/png": "[encoded data removed]",
      "text/plain": [
       "<Figure size 1000x400 with 1 Axes>"
      ]
     },
     "metadata": {},
     "output_type": "display_data"
    }
   ],
   "source": [
    "# Visualize the VehiclePrice\n",
    "plt.figure(figsize = (10,4))\n",
    "sns.countplot(data = eda_df,\n",
    "              x = \"VehiclePrice\")\n",
    "\n",
    "plt.title(\"Vehicle Price\")\n",
    "plt.show()"
   ]
  },
  {
   "cell_type": "code",
   "execution_count": 96,
   "id": "46062120-1e17-4e8b-bcb8-231b79aeb799",
   "metadata": {},
   "outputs": [
    {
     "data": {
      "image/png": "[encoded data removed]",
      "text/plain": [
       "<Figure size 1000x400 with 1 Axes>"
      ]
     },
     "metadata": {},
     "output_type": "display_data"
    }
   ],
   "source": [
    "# Visualize the VehiclePrice\n",
    "plt.figure(figsize = (10,4))\n",
    "sns.barplot(data = eda_df,\n",
    "            x = \"VehiclePrice\",\n",
    "            y = \"FraudFound_P\",\n",
    "            errorbar = None)\n",
    "\n",
    "plt.title(\"Vehicle Price\")\n",
    "plt.show()"
   ]
  },
  {
   "cell_type": "markdown",
   "id": "f0e98294-a212-4aaa-9aef-fe52f05be883",
   "metadata": {},
   "source": [
    "- Mosts claims have 20k to 29k vehicle price\n",
    "- Claims with vehicle price under 20k or more than 69k have higher probability fraud than others"
   ]
  },
  {
   "cell_type": "markdown",
   "id": "d66dbd72-bdaa-48aa-96d9-ca04fed013ac",
   "metadata": {},
   "source": [
    "### **11. Age**\n"
   ]
  },
  {
   "cell_type": "code",
   "execution_count": 100,
   "id": "20321f07-e7f0-4247-82bb-0c9322eda3bb",
   "metadata": {},
   "outputs": [
    {
     "data": {
      "image/png": "[encoded data removed]",
      "text/plain": [
       "<Figure size 640x480 with 1 Axes>"
      ]
     },
     "metadata": {},
     "output_type": "display_data"
    }
   ],
   "source": [
    "# Visualize the Age\n",
    "sns.histplot(data = eda_df,\n",
    "             x = \"Age\")\n",
    "plt.axvline([eda_df[\"Age\"].median()],\n",
    "            color = \"r\",\n",
    "            label = f\"median = {eda_df['Age'].median()}\")\n",
    "plt.legend()\n",
    "plt.title(\"Age\")\n",
    "plt.show()"
   ]
  },
  {
   "cell_type": "code",
   "execution_count": 101,
   "id": "8a79673f-43e4-4380-a910-f3a4a9a13b9e",
   "metadata": {},
   "outputs": [
    {
     "data": {
      "text/html": [
       "<div>\n",
       "<style scoped>\n",
       "    .dataframe tbody tr th:only-of-type {\n",
       "        vertical-align: middle;\n",
       "    }\n",
       "\n",
       "    .dataframe tbody tr th {\n",
       "        vertical-align: top;\n",
       "    }\n",
       "\n",
       "    .dataframe thead th {\n",
       "        text-align: right;\n",
       "    }\n",
       "</style>\n",
       "<table border=\"1\" class=\"dataframe\">\n",
       "  <thead>\n",
       "    <tr style=\"text-align: right;\">\n",
       "      <th></th>\n",
       "      <th>count</th>\n",
       "      <th>mean</th>\n",
       "      <th>std</th>\n",
       "      <th>min</th>\n",
       "      <th>25%</th>\n",
       "      <th>50%</th>\n",
       "      <th>75%</th>\n",
       "      <th>max</th>\n",
       "    </tr>\n",
       "    <tr>\n",
       "      <th>FraudFound_P</th>\n",
       "      <th></th>\n",
       "      <th></th>\n",
       "      <th></th>\n",
       "      <th></th>\n",
       "      <th></th>\n",
       "      <th></th>\n",
       "      <th></th>\n",
       "      <th></th>\n",
       "    </tr>\n",
       "  </thead>\n",
       "  <tbody>\n",
       "    <tr>\n",
       "      <th>0</th>\n",
       "      <td>8698.0</td>\n",
       "      <td>39.910324</td>\n",
       "      <td>13.427322</td>\n",
       "      <td>0.0</td>\n",
       "      <td>30.25</td>\n",
       "      <td>38.0</td>\n",
       "      <td>49.00</td>\n",
       "      <td>80.0</td>\n",
       "    </tr>\n",
       "    <tr>\n",
       "      <th>1</th>\n",
       "      <td>554.0</td>\n",
       "      <td>38.938628</td>\n",
       "      <td>14.830319</td>\n",
       "      <td>0.0</td>\n",
       "      <td>30.00</td>\n",
       "      <td>38.0</td>\n",
       "      <td>46.75</td>\n",
       "      <td>80.0</td>\n",
       "    </tr>\n",
       "  </tbody>\n",
       "</table>\n",
       "</div>"
      ],
      "text/plain": [
       "               count       mean        std  min    25%   50%    75%   max\n",
       "FraudFound_P                                                             \n",
       "0             8698.0  39.910324  13.427322  0.0  30.25  38.0  49.00  80.0\n",
       "1              554.0  38.938628  14.830319  0.0  30.00  38.0  46.75  80.0"
      ]
     },
     "execution_count": 101,
     "metadata": {},
     "output_type": "execute_result"
    }
   ],
   "source": [
    "# Descriptive of age by response fraud\n",
    "eda_df['Age'].groupby(eda_df[\"FraudFound_P\"]).describe()"
   ]
  },
  {
   "cell_type": "code",
   "execution_count": 102,
   "id": "1f9d6ab5-cf04-4d5b-bc66-41af9df20c4d",
   "metadata": {},
   "outputs": [
    {
     "data": {
      "image/png": "[encoded data removed]",
      "text/plain": [
       "<Figure size 640x480 with 1 Axes>"
      ]
     },
     "metadata": {},
     "output_type": "display_data"
    }
   ],
   "source": [
    "# Visualize the Ages\n",
    "sns.histplot(data = eda_df,\n",
    "             x = \"Age\",\n",
    "             hue = \"FraudFound_P\")\n",
    "\n",
    "fraud_age = eda_df[eda_df[\"FraudFound_P\"] == 1][\"Age\"]\n",
    "nonfraud_age = eda_df[eda_df[\"FraudFound_P\"] == 0][\"Age\"]\n",
    "\n",
    "plt.axvline([fraud_age.mean()],\n",
    "            color = \"r\",\n",
    "            label = f\"mean age of fraud = {np.round(fraud_age.mean(), 2)}\")\n",
    "\n",
    "plt.axvline([nonfraud_age.mean()],\n",
    "            color = \"g\",\n",
    "            label = f\"mean age of non fraud= {np.round(nonfraud_age.mean(), 2)}\")\n",
    "\n",
    "plt.legend()\n",
    "plt.title(\"Age\")\n",
    "plt.show()"
   ]
  },
  {
   "cell_type": "markdown",
   "id": "af5d2255-13d6-4d72-b3f4-e1c4d40413ed",
   "metadata": {},
   "source": [
    "- The distribution of age is nearly normal distributed\n",
    "- However there's unexpecting value of 0 age\n",
    "- The average of fraudulant claimants' age is not far differ than the non fraudulent claimants"
   ]
  },
  {
   "cell_type": "code",
   "execution_count": null,
   "id": "8853368b-4596-4451-af1d-6aae197df751",
   "metadata": {},
   "outputs": [],
   "source": []
  }
 ],
 "metadata": {
  "kernelspec": {
   "display_name": "Python 3 (ipykernel)",
   "language": "python",
   "name": "python3"
  },
  "language_info": {
   "codemirror_mode": {
    "name": "ipython",
    "version": 3
   },
   "file_extension": ".py",
   "mimetype": "text/x-python",
   "name": "python",
   "nbconvert_exporter": "python",
   "pygments_lexer": "ipython3",
   "version": "3.8.20"
  }
 },
 "nbformat": 4,
 "nbformat_minor": 5
}
